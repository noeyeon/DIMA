





import pandas as pd
import numpy as np
from sklearn.preprocessing import OneHotEncoder
from sklearn.metrics.pairwise import cosine_similarity
from sklearn.feature_extraction.text import TfidfVectorizer
import string





df_industrial_park = pd.read_excel('국가산업단지 진짜최종240612.xlsx')
df_ilsan = pd.read_excel('일산0616_진짜최종.xlsx')
df_similarity = pd.read_excel('모든공장유사도용.xlsx')





industry_codes = {
    '음식료': [10, 11, 12],
    '섬유의복': [13, 14, 15],
    '목재종이': [16, 17, 18],
    '석유화학': [19, 20, 21, 22],
    '비금속': [23],
    '철강': [24],
    '기계': [25, 29],
    '전기전자': [26, 27, 28],
    '운송장비': [30, 31],
    '기타': [32, 33, 34]
}

industry_columns = [
    '12월 고용현황/입주업체 수_{user_industry}',
    '12월 수출실적/가동업체 수_{user_industry}',
    '12월 생산실적/가동업체 수_{user_industry}',
    '12월 생산실적_{user_industry}_비율',
    '12월 가동업체_{user_industry}_비율',
    '12월 입주업체_{user_industry}_비율',
    '업종별 가동률-{user_industry}'
]






# 사용자의 입력을 받기 위해 input() 함수를 사용

# 사용자의 선호 지역("시도") 입력
user_region_input = input("선호하는 지역을 쉼표로 구분하여 입력하세요 (예: 서울특별시, 경상남도, 경상북도): ")
user_regions = [region.strip() for region in user_region_input.split(',')]

# 사용자가 선택한 업종 입력
user_industry = input("선택한 업종을 입력하세요 (예: 기계): ")

# 사용자의 생산품 입력
user_input_item = input("생산품을 입력하세요 (예: 목재가구): ")

# 사용자의 원자재 입력
user_need_item = input("원자재 입력하세요 (예: 목재): ")

# 교통 접근성에 대한 사용자 선호도 입력
print("교통 접근성에 대한 선호도를 입력하세요 (1: 가장 선호, 4: 가장 덜 선호), (고속도로, 철도, 항만, 공항)")
user_priorities = {
    '고속도로 인접도': int(input("고속도로 인접도 선호도 순위 (1-4): ")),
    '철도 인접도': int(input("철도 인접도 선호도 순위 (1-4): ")),
    '항만 인접도': int(input("항만 인접도 선호도 순위 (1-4): ")),
    '공항 인접도': int(input("공항 인접도 선호도 순위 (1-4): "))
}

# 사용자의 선호 토지 지가 상한 입력
preferred_price_max = int(input("선호하는 토지 지가의 상한을 입력하세요(원/㎡) (예: 80000): "))

# 사용자 입력 확인
print("\n입력된 값 확인:")
print(f"선호 지역: {user_regions}")
print(f"선택한 업종: {user_industry}")
print(f"생산품: {user_input_item}")
print("교통 접근성 선호도:", user_priorities)
print(f"선호 토지 지가 상한: {preferred_price_max}")





# 모든 '시도'(국가산단+일반산단)
all_sido_categories = list(df_industrial_park['시도'].unique()) + list(df_ilsan['시도'].unique())

# 중복 제거
all_sido_categories = list(set(all_sido_categories))

# 모든 '시도' 카테고리로 원-핫 인코더 생성
encoder = OneHotEncoder(categories=[all_sido_categories])

# 국산, 일산 각각의 '시도' 컬럼을 변환하여 원-핫 인코딩
df_industrial_park_encoded = encoder.fit_transform(df_industrial_park[['시도']])
df_ilsan_encoded = encoder.transform(df_ilsan[['시도']])

# 사용자 입력 '시도'도 원-핫 인코딩
user_encoded_region = encoder.transform(np.array(user_regions).reshape(-1, 1)).toarray().sum(axis=0)





# 국가산업단지 데이터
if f'12월 가동업체_{user_industry}_비율' in df_industrial_park.columns:
    df_industrial_park.rename(columns={f'12월 가동업체_{user_industry}_비율': '업종집적도'}, inplace=True)

available_industry_columns = [
    col.format(user_industry=user_industry) for col in industry_columns if col.format(user_industry=user_industry) in df_industrial_park.columns
]

# 일산 산업단지 데이터
if f'12월 가동업체_{user_industry}_비율' in df_ilsan.columns:
    df_ilsan.rename(columns={f'12월 가동업체_{user_industry}_비율': '업종집적도'}, inplace=True)

available_industry_columns_general = [
    col.format(user_industry=user_industry) for col in industry_columns if col.format(user_industry=user_industry) in df_ilsan.columns
]

# 국산+일산
all_available_industry_columns = list(set(available_industry_columns + available_industry_columns_general))





similarity_results = {}





# 8. 시도 유사도 계산 후 점수 집합에 포함
region_similarity_industrial = []
for index, row in df_industrial_park.iterrows():
    if row['시도'] in user_regions:
        region_similarity_industrial.append(1)
    else:
        region_similarity_industrial.append(0)
similarity_results['시도 유사도 (국가산업단지)'] = np.array(region_similarity_industrial)

region_similarity_ilsan = []
for index, row in df_ilsan.iterrows():
    if row['시도'] in user_regions:
        region_similarity_ilsan.append(1)
    else:
        region_similarity_ilsan.append(0)
similarity_results['시도 유사도 (일산 산업단지)'] = np.array(region_similarity_ilsan)





# '단지명', '생산품' 컬럼만 선택
df_relevant = df_similarity[['단지명', '생산품']]

# stopwords 설정
stopwords_zip = []
for i in string.punctuation:
    stopwords_zip.append(i)
stop_korean = ['및', '외', '등']
for i in stop_korean:
    stopwords_zip.append(i)
stopwords_zip.remove('%')
stopwords_zip.remove('/')
stopwords_zip.remove('-')

# TF-IDF 벡터화
vectorizer = TfidfVectorizer(stop_words=stopwords_zip)
tfidf_matrix = vectorizer.fit_transform(df_relevant['생산품'].astype(str))

# 사용자 입력값 TF-IDF
user_tfidf = vectorizer.transform([user_input_item])

# 생산품과 사용자 입력값 TF-IDF끼리 코사인 유사도 계산
similarities = cosine_similarity(user_tfidf, tfidf_matrix).flatten()

# 최종 데이터프레임 구성
df_relevant['생산품 유사도 정규화전'] = similarities

# 유사도가 조금이라도 존재하는 경우만 남긴다. (= 유사도가 0인 경우 모두 제거)
non_zero_similarity_df = df_relevant[df_relevant['생산품 유사도 정규화전'] > 0]

# "단지명"별로 "유사도가 존재하는 생산품을 생산하는 생산공장 수"
sim_fac_cnt = non_zero_similarity_df.groupby('단지명').size().reset_index(name='유사 생산품 생산공장 수')

# 각 단지명별 생산품 유사도의 평균값 계산
mean_similarity = non_zero_similarity_df.groupby('단지명')['생산품 유사도 정규화전'].mean().reset_index(name='생산품 유사도 평균값')

# "단지명"에 따른 생산품 유사도 평균값 + 생산공장 수
sim_fac_cnt = sim_fac_cnt.merge(mean_similarity, on='단지명')

# 가중치 설정, 가중치를 적용한 최종 유사도 계산
weight_mean = 0.5
weight_count = 0.5
sim_fac_cnt['최종 유사도'] = (sim_fac_cnt['생산품 유사도 평균값'] * weight_mean) + (sim_fac_cnt['유사 생산품 생산공장 수'] * weight_count)

# 최종 유사도를 0.5에서 1 사이로 정규화    @@@ 수정이 필요한지 고려 @@@
min_final_sim = sim_fac_cnt['최종 유사도'].min()
max_final_sim = sim_fac_cnt['최종 유사도'].max()
sim_fac_cnt['생산품 유사도'] = 0.5 + ((sim_fac_cnt['최종 유사도'] - min_final_sim) / (max_final_sim - min_final_sim)) * 0.5

# '생산품 유사도'를 점수 집합에 추가
similarity_results['생산품 유사도'] = sim_fac_cnt.set_index('단지명')['생산품 유사도'].to_dict()

# 잠깐 결과 확인
print("생산품 유사도 계산 결과:")
print(sim_fac_cnt.head())





# '단지명', '원자재' 컬럼만 선택
df_relevant_raw_materials = df_similarity[['단지명', '원자재']]

# TF-IDF 벡터화
vectorizer_raw_materials = TfidfVectorizer(stop_words=stopwords_zip)
tfidf_matrix_raw_materials = vectorizer_raw_materials.fit_transform(df_relevant_raw_materials['원자재'].astype(str))

# 사용자 입력값 TF-IDF
user_tfidf_raw_materials = vectorizer_raw_materials.transform([user_need_item])

# 원자재과 사용자 입력값 TF-IDF끼리 코사인 유사도 계산
similarities_raw_materials = cosine_similarity(user_tfidf_raw_materials, tfidf_matrix_raw_materials).flatten()

# 최종 데이터프레임 구성
df_relevant_raw_materials['원자재 유사도 정규화전'] = similarities_raw_materials

# 유사도가 조금이라도 존재하는 경우만 남긴다. (= 유사도가 0인 경우 모두 제거)
non_zero_similarity_df_raw_materials = df_relevant_raw_materials[df_relevant_raw_materials['원자재 유사도 정규화전'] > 0]

# "단지명"별로 "유사도가 존재하는 원자재를 필요로 하는 생산공장 수"
sim_fac_cnt_raw_materials = non_zero_similarity_df_raw_materials.groupby('단지명').size().reset_index(name='유사 원자재 사용공장 수')

# 각 단지명별 원자재 유사도의 평균값 계산
mean_similarity_raw_materials = non_zero_similarity_df_raw_materials.groupby('단지명')['원자재 유사도 정규화전'].mean().reset_index(name='원자재 유사도 평균값')

# "단지명"에 따른 원자재 유사도 평균값 + 생산공장 수
sim_fac_cnt_raw_materials = sim_fac_cnt_raw_materials.merge(mean_similarity_raw_materials, on='단지명')

# 가중치 설정, 가중치를 적용한 최종 유사도 계산
weight_mean_raw_materials = 0.5
weight_count_raw_materials = 0.5
sim_fac_cnt_raw_materials['최종 유사도'] = (sim_fac_cnt_raw_materials['원자재 유사도 평균값'] * weight_mean_raw_materials) + (sim_fac_cnt_raw_materials['유사 원자재 사용공장 수'] * weight_count_raw_materials)

# 최종 유사도를 0.5에서 1 사이로 정규화    @@@ 수정이 필요한지 고려 @@@
min_final_sim_raw_materials = sim_fac_cnt_raw_materials['최종 유사도'].min()
max_final_sim_raw_materials = sim_fac_cnt_raw_materials['최종 유사도'].max()
sim_fac_cnt_raw_materials['원자재 유사도'] = 0.5 + ((sim_fac_cnt_raw_materials['최종 유사도'] - min_final_sim_raw_materials) / (max_final_sim_raw_materials - min_final_sim_raw_materials)) * 0.5

# '원자재 유사도'를 점수 집합에 추가
similarity_results['원자재 유사도'] = sim_fac_cnt_raw_materials.set_index('단지명')['원자재 유사도'].to_dict()

# 잠깐 결과 확인
print("원자재 유사도 계산 결과:")
print(sim_fac_cnt_raw_materials.head())





# 국가산업단지 교통 접근성 점수 계산
d1_industrial = df_industrial_park[
    ['단지명', '국가산업단지별 고속도로 인접도 점수', '국가산업단지별 항만 인접도 점수',
     '국가산업단지별 철도 인접도 점수', '국가산업단지별 공항 인접도 점수']
].fillna(0)

# 사용자 교통 인접 선호도 입력값에 따라 점수 생성 ex) 인접 선호도 순위(1,2,3,4) -> 인접도 점수(4,3,2,1)
priority_scores = {key: 5 - value for key, value in user_priorities.items()}

# 페널티를 적용한 가중치 점수 계산
d1_industrial['고속도로 가중치'] = d1_industrial['국가산업단지별 고속도로 인접도 점수'] * priority_scores['고속도로 인접도']
d1_industrial['철도 가중치'] = d1_industrial['국가산업단지별 철도 인접도 점수'] * priority_scores['철도 인접도']
d1_industrial['항만 가중치'] = d1_industrial['국가산업단지별 항만 인접도 점수'] * priority_scores['항만 인접도']
d1_industrial['공항 가중치'] = d1_industrial['국가산업단지별 공항 인접도 점수'] * priority_scores['공항 인접도']

# 총 가중치 점수 계산
d1_industrial['총 가중치 점수'] = (
    d1_industrial['고속도로 가중치'] +
    d1_industrial['철도 가중치'] +
    d1_industrial['항만 가중치'] +
    d1_industrial['공항 가중치']
)

# 정규화된 총 가중치 점수 계산
d1_industrial['정규화된 총 가중치 점수'] = (
    d1_industrial['총 가중치 점수'] - d1_industrial['총 가중치 점수'].min()
) / (
    d1_industrial['총 가중치 점수'].max() - d1_industrial['총 가중치 점수'].min()
)

# 결과를 딕셔너리로 변환하여 '단지명'을 기준으로 '정규화된 총 가중치 점수'를 매핑
industrial_transport_scores = d1_industrial.set_index('단지명')['정규화된 총 가중치 점수'].to_dict()
similarity_results['교통 접근성 점수 (국가산업단지)'] = industrial_transport_scores

# 일산 산업단지 교통 접근성 점수 계산
d1_ilsan = df_ilsan[
    ['단지명', '고속도로 인접도 점수', '항구 인접도 점수', '철도 인접도 점수', '공항 인접도 점수']
].fillna(0)

# 페널티를 적용한 가중치 점수 계산
d1_ilsan['고속도로 가중치'] = d1_ilsan['고속도로 인접도 점수'] * priority_scores['고속도로 인접도']
d1_ilsan['철도 가중치'] = d1_ilsan['철도 인접도 점수'] * priority_scores['철도 인접도']
d1_ilsan['항만 가중치'] = d1_ilsan['항구 인접도 점수'] * priority_scores['항만 인접도']
d1_ilsan['공항 가중치'] = d1_ilsan['공항 인접도 점수'] * priority_scores['공항 인접도']

# 총 가중치 점수 계산
d1_ilsan['총 가중치 점수'] = (
    d1_ilsan['고속도로 가중치'] +
    d1_ilsan['철도 가중치'] +
    d1_ilsan['항만 가중치'] +
    d1_ilsan['공항 가중치']
)

# 정규화된 총 가중치 점수 계산
d1_ilsan['정규화된 총 가중치 점수'] = (
    d1_ilsan['총 가중치 점수'] - d1_ilsan['총 가중치 점수'].min()
) / (
    d1_ilsan['총 가중치 점수'].max() - d1_ilsan['총 가중치 점수'].min()
)

# 결과를 딕셔너리로 변환하여 '단지명'을 기준으로 '정규화된 총 가중치 점수'를 매핑
ilsan_transport_scores = d1_ilsan.set_index('단지명')['정규화된 총 가중치 점수'].to_dict()
similarity_results['교통 접근성 점수 (일산 산업단지)'] = ilsan_transport_scores






# 지수 함수 페널티 적용
beta = 5  # 예시로 5를 사용, 값이 커질수록 점수가 더 빠르게 감소

# 점수 계산 지수 함수
def calculate_penalty_score(price, max_price, beta):
    if price <= max_price:
        return 1  # 상한 이내의 가격은 점수 1
    excess_ratio = (price - max_price) / max_price  # 초과 비율 계산
    return 1 / np.exp(beta * excess_ratio)  # 지수 함수로 점수 계산

# 국가산업단지 토지 개별공시지가 점수
df_industrial_park['토지 개별공시지가 점수'] = df_industrial_park['토지 개별공시지가'].apply(
    lambda x: calculate_penalty_score(x, preferred_price_max, beta)
)

# 일반 산업단지 토지 개별공시지가 점수
df_ilsan['토지 개별공시지가 점수'] = df_ilsan['토지 개별공시지가'].apply(
    lambda x: calculate_penalty_score(x, preferred_price_max, beta)
)






# 두 데이터프레임을 하나로 결합하여 유사도 순으로 정렬
df_combined_similarity = pd.concat([df_industrial_park, df_ilsan], ignore_index=True)

# '시도 유사도' 추가
# '국가산업단지'와 '일산 산업단지'의 유사도 길이를 각각 확인하고 병합
if '시도 유사도 (국가산업단지)' in similarity_results and '시도 유사도 (일산 산업단지)' in similarity_results:
    total_length = len(similarity_results['시도 유사도 (국가산업단지)']) + len(similarity_results['시도 유사도 (일산 산업단지)'])
    if total_length == len(df_combined_similarity):
        df_combined_similarity['시도 유사도'] = np.concatenate((similarity_results['시도 유사도 (국가산업단지)'], similarity_results['시도 유사도 (일산 산업단지)']))

# '교통 접근성 점수' 추가
# '단지명'을 기준으로 교통 접근성 점수를 매핑
df_combined_similarity['교통 접근성 점수'] = df_combined_similarity['단지명'].map({**industrial_transport_scores, **ilsan_transport_scores})

# 실제 존재하는 컬럼만 포함하여 최종 컬럼 설정
columns_to_include = ['단지명', '시도 유사도', '교통 접근성 점수', '토지 개별공시지가', '토지 개별공시지가 점수']
if '업종집적도' in df_combined_similarity.columns:
    columns_to_include.append('업종집적도')

# 최종 데이터프레임 선택
results = df_combined_similarity[columns_to_include].copy()

# 순위 컬럼 추가
results['추천순위'] = range(1, len(results) + 1)

# 중간 결과 확인
print("결과 데이터프레임:")
print(results.head())






# 13. 유사도 점수 최종 계산
# '생산품 유사도'를 결과 데이터프레임에 추가
results_1 = results.merge(sim_fac_cnt[['단지명', '생산품 유사도']], on='단지명', how='left')
results_1['생산품 유사도'] = results_1['생산품 유사도'].fillna(0)  # 유사도가 없는 경우 기본값으로 0 설정
# '원자재 유사도'를 결과 데이터프레임에 추가
results_1 = results_1.merge(sim_fac_cnt_raw_materials[['단지명', '원자재 유사도']], on='단지명', how='left')
results_1['원자재 유사도'] = results_1['원자재 유사도'].fillna(0)  # 유사도가 없는 경우 기본값으로 0 설정

# 각 요소에 가중치 적용하여 최종 유사도 계산

weight_region = 0.1  # 시도 유사도
weight_transport = 0.35  # 교통 접근성 점수
weight_industry = 0.15  # 업종집적도
weight_price_penalty = 0.2  # 토지 개별공시지가 점수
weight_product = 0.1  # 생산품 유사도
weight_raw_material = 0.1  # 원자재 유사도

# 최종 유사도 계산
results_1['유사도 (종합)'] = (
    weight_region * results_1['시도 유사도'] +
    weight_transport * results_1['교통 접근성 점수'] +
    weight_industry * results_1['업종집적도'] +
    weight_price_penalty * results_1['토지 개별공시지가 점수'] +
    weight_product * results_1['생산품 유사도'] +
    weight_raw_material * results_1['원자재 유사도']
)

# 중간 결과 확인
print("중간 유사도 (종합) 계산 결과:")
print(results_1[['단지명', '유사도 (종합)', '시도 유사도', '교통 접근성 점수', '토지 개별공시지가', '토지 개별공시지가 점수', '업종집적도', '생산품 유사도']].head())






# '단지명'을 기준으로 그룹화하고, '유사도 (종합)'이 가장 높은 값을 선택
results_no_filtered = results_1.loc[results_1.groupby('단지명')['유사도 (종합)'].idxmax()]
# '유사도 (종합)'을 기준으로 정렬
results_no_filtered = results_no_filtered.sort_values(by='유사도 (종합)', ascending=False).reset_index(drop=True)

# 추천 순위를 다시 1,2,3,...로 재정렬
results_no_filtered = results_no_filtered.reset_index(drop=True)
results_no_filtered['추천순위'] = range(1, len(results_no_filtered) + 1)

# 토지 개별공시지가 점수 소수점 6번쨰 자리까지
results_no_filtered['토지 개별공시지가 점수'] = results_no_filtered['토지 개별공시지가 점수'].round(6)

# 원하는 순서로 컬럼 재정렬
final_columns_order = ['추천순위', '단지명', '유사도 (종합)', '시도 유사도', '교통 접근성 점수', '토지 개별공시지가 점수', '업종집적도', '생산품 유사도', '원자재 유사도','토지 개별공시지가']
results_no_filtered = results_no_filtered[final_columns_order]

# 재정렬된 순위로 결과 확인
print("분양률 100% 포함 추천순위:")
display(results_no_filtered.head(30))





results_no_filtered[results_no_filtered['생산품 유사도']==1]





results_no_filtered[results_no_filtered['원자재 유사도']==1]





if '산업시설구역-분양률' in df_ilsan.columns:
    # 일산 산업단지에서 '산업시설구역-분양률' 값이 100인 단지명 목록 추출
    ilsan_excluded_names = df_ilsan[df_ilsan['산업시설구역-분양률'] == 100]['단지명']
    
    # 결과 데이터프레임에서 해당 단지명을 제외, 결과를 담을 변수 새로 생성
    results_2 = results_1[~results_1['단지명'].isin(ilsan_excluded_names)]


# '단지명'을 기준으로 그룹화하고, '유사도 (종합)'이 가장 높은 값을 선택
results_3 = results_2.loc[results_2.groupby('단지명')['유사도 (종합)'].idxmax()]
# '유사도 (종합)'을 기준으로 정렬
results_3 = results_3.sort_values(by='유사도 (종합)', ascending=False).reset_index(drop=True)

# 추천 순위를 다시 1,2,3,...로 재정렬
results_3['추천순위'] = range(1, len(results_3) + 1)

# 토지 개별공시지가 점수 소수점 6번쨰 자리까지
results_3['토지 개별공시지가 점수'] = results_3['토지 개별공시지가 점수'].round(6)

# 원하는 순서로 컬럼 재정렬
final_columns_order = ['추천순위', '단지명', '유사도 (종합)', '시도 유사도', '교통 접근성 점수', '토지 개별공시지가 점수', '업종집적도', '생산품 유사도', '원자재 유사도', '토지 개별공시지가']
results_3 = results_3[final_columns_order]

# 재정렬된 컬럼으로 결과 확인
print("분양률 100% 제외 추천순위:")
display(results_3.head(30))






